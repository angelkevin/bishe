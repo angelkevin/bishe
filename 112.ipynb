{
 "cells": [
  {
   "cell_type": "markdown",
   "source": [],
   "metadata": {
    "collapsed": false
   }
  },
  {
   "cell_type": "code",
   "execution_count": 6,
   "metadata": {
    "collapsed": true
   },
   "outputs": [],
   "source": [
    "import pandas as pd\n",
    "import time"
   ]
  },
  {
   "cell_type": "code",
   "execution_count": 11,
   "outputs": [
    {
     "name": "stdout",
     "output_type": "stream",
     "text": [
      "DatetimeIndex(['2023-02-28 00:00:00', '2023-02-28 01:00:00',\n",
      "               '2023-02-28 02:00:00', '2023-02-28 03:00:00',\n",
      "               '2023-02-28 04:00:00', '2023-02-28 05:00:00',\n",
      "               '2023-02-28 06:00:00', '2023-02-28 07:00:00',\n",
      "               '2023-02-28 08:00:00', '2023-02-28 09:00:00',\n",
      "               '2023-02-28 10:00:00', '2023-02-28 11:00:00'],\n",
      "              dtype='datetime64[ns]', freq='H')\n"
     ]
    }
   ],
   "source": [
    "print(pd.date_range(start = time.strftime('%Y-%m-%d'),periods = 12,freq = '1h'))"
   ],
   "metadata": {
    "collapsed": false
   }
  },
  {
   "cell_type": "code",
   "execution_count": 19,
   "outputs": [
    {
     "name": "stdout",
     "output_type": "stream",
     "text": [
      "        ts_code trade_date   open   high    low  close  pre_close  change  \\\n",
      "0     000002.SZ   20230228  17.23  17.26  16.91  17.14      17.18   -0.04   \n",
      "1     000002.SZ   20230227  17.23  17.40  17.16  17.18      17.22   -0.04   \n",
      "2     000002.SZ   20230224  17.51  17.54  17.13  17.22      17.47   -0.25   \n",
      "3     000002.SZ   20230223  17.46  17.64  17.40  17.47      17.43    0.04   \n",
      "4     000002.SZ   20230222  17.41  17.53  17.40  17.43      17.63   -0.20   \n",
      "...         ...        ...    ...    ...    ...    ...        ...     ...   \n",
      "5995  000002.SZ   19970717  15.50  16.93  15.20  16.42      15.39    1.03   \n",
      "5996  000002.SZ   19970716  15.33  15.89  15.15  15.39      15.33    0.06   \n",
      "5997  000002.SZ   19970715  15.70  15.72  15.01  15.33      15.60   -0.27   \n",
      "5998  000002.SZ   19970714  15.80  16.00  15.31  15.60      15.08    0.52   \n",
      "5999  000002.SZ   19970711  16.80  17.60  16.60  17.59      16.85    0.74   \n",
      "\n",
      "      pct_chg        vol        amount  \n",
      "0     -0.2328  734644.03  1.250302e+06  \n",
      "1     -0.2323  369424.10  6.376721e+05  \n",
      "2     -1.4310  522141.88  9.010309e+05  \n",
      "3      0.2295  402953.86  7.052861e+05  \n",
      "4     -1.1344  374754.20  6.534840e+05  \n",
      "...       ...        ...           ...  \n",
      "5995   6.6900   75611.00  1.207104e+05  \n",
      "5996   0.3900   30795.00  4.763078e+04  \n",
      "5997  -1.7300   38764.00  5.915810e+04  \n",
      "5998   3.4500   57550.00  9.063735e+04  \n",
      "5999   4.3900   66483.00  1.140601e+05  \n",
      "\n",
      "[6000 rows x 11 columns]\n"
     ]
    }
   ],
   "source": [
    "\n",
    "# 导入tushare\n",
    "import tushare as ts\n",
    "# 初始化pro接口\n",
    "pro = ts.pro_api('55e32ea804a9a5eb666d9a47c2203377e0b2bc3751b16132a916ef4e')\n",
    "\n",
    "# 拉取数据\n",
    "df = pro.daily(**{\n",
    "    \"ts_code\": \"000002.SZ\",\n",
    "    \"trade_date\": \"\",\n",
    "    \"start_date\": \"\",\n",
    "    \"end_date\": \"\",\n",
    "    \"offset\": \"\",\n",
    "    \"limit\": \"\"\n",
    "}, fields=[\n",
    "    \"ts_code\",\n",
    "    \"trade_date\",\n",
    "    \"open\",\n",
    "    \"high\",\n",
    "    \"low\",\n",
    "    \"close\",\n",
    "    \"pre_close\",\n",
    "    \"change\",\n",
    "    \"pct_chg\",\n",
    "    \"vol\",\n",
    "    \"amount\"\n",
    "])\n",
    "print(df)\n",
    "\n"
   ],
   "metadata": {
    "collapsed": false
   }
  },
  {
   "cell_type": "code",
   "execution_count": 20,
   "outputs": [
    {
     "data": {
      "text/plain": "        ts_code trade_date   open   high    low  close  pre_close  change  \\\n0     000002.SZ   20230228  17.23  17.26  16.91  17.14      17.18   -0.04   \n1     000002.SZ   20230227  17.23  17.40  17.16  17.18      17.22   -0.04   \n2     000002.SZ   20230224  17.51  17.54  17.13  17.22      17.47   -0.25   \n3     000002.SZ   20230223  17.46  17.64  17.40  17.47      17.43    0.04   \n4     000002.SZ   20230222  17.41  17.53  17.40  17.43      17.63   -0.20   \n...         ...        ...    ...    ...    ...    ...        ...     ...   \n5995  000002.SZ   19970717  15.50  16.93  15.20  16.42      15.39    1.03   \n5996  000002.SZ   19970716  15.33  15.89  15.15  15.39      15.33    0.06   \n5997  000002.SZ   19970715  15.70  15.72  15.01  15.33      15.60   -0.27   \n5998  000002.SZ   19970714  15.80  16.00  15.31  15.60      15.08    0.52   \n5999  000002.SZ   19970711  16.80  17.60  16.60  17.59      16.85    0.74   \n\n      pct_chg        vol        amount  \n0     -0.2328  734644.03  1.250302e+06  \n1     -0.2323  369424.10  6.376721e+05  \n2     -1.4310  522141.88  9.010309e+05  \n3      0.2295  402953.86  7.052861e+05  \n4     -1.1344  374754.20  6.534840e+05  \n...       ...        ...           ...  \n5995   6.6900   75611.00  1.207104e+05  \n5996   0.3900   30795.00  4.763078e+04  \n5997  -1.7300   38764.00  5.915810e+04  \n5998   3.4500   57550.00  9.063735e+04  \n5999   4.3900   66483.00  1.140601e+05  \n\n[6000 rows x 11 columns]",
      "text/html": "<div>\n<style scoped>\n    .dataframe tbody tr th:only-of-type {\n        vertical-align: middle;\n    }\n\n    .dataframe tbody tr th {\n        vertical-align: top;\n    }\n\n    .dataframe thead th {\n        text-align: right;\n    }\n</style>\n<table border=\"1\" class=\"dataframe\">\n  <thead>\n    <tr style=\"text-align: right;\">\n      <th></th>\n      <th>ts_code</th>\n      <th>trade_date</th>\n      <th>open</th>\n      <th>high</th>\n      <th>low</th>\n      <th>close</th>\n      <th>pre_close</th>\n      <th>change</th>\n      <th>pct_chg</th>\n      <th>vol</th>\n      <th>amount</th>\n    </tr>\n  </thead>\n  <tbody>\n    <tr>\n      <th>0</th>\n      <td>000002.SZ</td>\n      <td>20230228</td>\n      <td>17.23</td>\n      <td>17.26</td>\n      <td>16.91</td>\n      <td>17.14</td>\n      <td>17.18</td>\n      <td>-0.04</td>\n      <td>-0.2328</td>\n      <td>734644.03</td>\n      <td>1.250302e+06</td>\n    </tr>\n    <tr>\n      <th>1</th>\n      <td>000002.SZ</td>\n      <td>20230227</td>\n      <td>17.23</td>\n      <td>17.40</td>\n      <td>17.16</td>\n      <td>17.18</td>\n      <td>17.22</td>\n      <td>-0.04</td>\n      <td>-0.2323</td>\n      <td>369424.10</td>\n      <td>6.376721e+05</td>\n    </tr>\n    <tr>\n      <th>2</th>\n      <td>000002.SZ</td>\n      <td>20230224</td>\n      <td>17.51</td>\n      <td>17.54</td>\n      <td>17.13</td>\n      <td>17.22</td>\n      <td>17.47</td>\n      <td>-0.25</td>\n      <td>-1.4310</td>\n      <td>522141.88</td>\n      <td>9.010309e+05</td>\n    </tr>\n    <tr>\n      <th>3</th>\n      <td>000002.SZ</td>\n      <td>20230223</td>\n      <td>17.46</td>\n      <td>17.64</td>\n      <td>17.40</td>\n      <td>17.47</td>\n      <td>17.43</td>\n      <td>0.04</td>\n      <td>0.2295</td>\n      <td>402953.86</td>\n      <td>7.052861e+05</td>\n    </tr>\n    <tr>\n      <th>4</th>\n      <td>000002.SZ</td>\n      <td>20230222</td>\n      <td>17.41</td>\n      <td>17.53</td>\n      <td>17.40</td>\n      <td>17.43</td>\n      <td>17.63</td>\n      <td>-0.20</td>\n      <td>-1.1344</td>\n      <td>374754.20</td>\n      <td>6.534840e+05</td>\n    </tr>\n    <tr>\n      <th>...</th>\n      <td>...</td>\n      <td>...</td>\n      <td>...</td>\n      <td>...</td>\n      <td>...</td>\n      <td>...</td>\n      <td>...</td>\n      <td>...</td>\n      <td>...</td>\n      <td>...</td>\n      <td>...</td>\n    </tr>\n    <tr>\n      <th>5995</th>\n      <td>000002.SZ</td>\n      <td>19970717</td>\n      <td>15.50</td>\n      <td>16.93</td>\n      <td>15.20</td>\n      <td>16.42</td>\n      <td>15.39</td>\n      <td>1.03</td>\n      <td>6.6900</td>\n      <td>75611.00</td>\n      <td>1.207104e+05</td>\n    </tr>\n    <tr>\n      <th>5996</th>\n      <td>000002.SZ</td>\n      <td>19970716</td>\n      <td>15.33</td>\n      <td>15.89</td>\n      <td>15.15</td>\n      <td>15.39</td>\n      <td>15.33</td>\n      <td>0.06</td>\n      <td>0.3900</td>\n      <td>30795.00</td>\n      <td>4.763078e+04</td>\n    </tr>\n    <tr>\n      <th>5997</th>\n      <td>000002.SZ</td>\n      <td>19970715</td>\n      <td>15.70</td>\n      <td>15.72</td>\n      <td>15.01</td>\n      <td>15.33</td>\n      <td>15.60</td>\n      <td>-0.27</td>\n      <td>-1.7300</td>\n      <td>38764.00</td>\n      <td>5.915810e+04</td>\n    </tr>\n    <tr>\n      <th>5998</th>\n      <td>000002.SZ</td>\n      <td>19970714</td>\n      <td>15.80</td>\n      <td>16.00</td>\n      <td>15.31</td>\n      <td>15.60</td>\n      <td>15.08</td>\n      <td>0.52</td>\n      <td>3.4500</td>\n      <td>57550.00</td>\n      <td>9.063735e+04</td>\n    </tr>\n    <tr>\n      <th>5999</th>\n      <td>000002.SZ</td>\n      <td>19970711</td>\n      <td>16.80</td>\n      <td>17.60</td>\n      <td>16.60</td>\n      <td>17.59</td>\n      <td>16.85</td>\n      <td>0.74</td>\n      <td>4.3900</td>\n      <td>66483.00</td>\n      <td>1.140601e+05</td>\n    </tr>\n  </tbody>\n</table>\n<p>6000 rows × 11 columns</p>\n</div>"
     },
     "execution_count": 20,
     "metadata": {},
     "output_type": "execute_result"
    }
   ],
   "source": [
    "df"
   ],
   "metadata": {
    "collapsed": false
   }
  },
  {
   "cell_type": "code",
   "execution_count": null,
   "outputs": [],
   "source": [],
   "metadata": {
    "collapsed": false
   }
  }
 ],
 "metadata": {
  "kernelspec": {
   "display_name": "Python 3",
   "language": "python",
   "name": "python3"
  },
  "language_info": {
   "codemirror_mode": {
    "name": "ipython",
    "version": 2
   },
   "file_extension": ".py",
   "mimetype": "text/x-python",
   "name": "python",
   "nbconvert_exporter": "python",
   "pygments_lexer": "ipython2",
   "version": "2.7.6"
  }
 },
 "nbformat": 4,
 "nbformat_minor": 0
}
